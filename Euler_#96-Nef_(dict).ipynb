{
 "cells": [
  {
   "cell_type": "markdown",
   "metadata": {},
   "source": [
    "# Project Euler 96"
   ]
  },
  {
   "cell_type": "code",
   "execution_count": 1,
   "metadata": {},
   "outputs": [],
   "source": [
    "import datetime\n",
    "Start_Time = datetime.datetime.now()\n",
    "import numpy as np"
   ]
  },
  {
   "cell_type": "code",
   "execution_count": 2,
   "metadata": {},
   "outputs": [],
   "source": [
    "def get_possible_numbers(grid_number, row, col):\n",
    "    # Local variable(s)\n",
    "    possible = {1, 2, 3, 4, 5, 6, 7, 8, 9}\n",
    "    \n",
    "    # Identify areas to check (i.e. individual row, col, and 3x3 grid)\n",
    "    # - identifying numbers in row to check\n",
    "    numbers_in_row = Sudoku[grid_number]['matrix'][row]\n",
    "    # - identifying numbers in col to check\n",
    "    numbers_in_col = [row_in_grid[col] for row_in_grid in Sudoku[grid_number]['matrix']]\n",
    "    # - identifying 3x3 grid\n",
    "    small_grid = set()\n",
    "    small_grid_row = 3*(row//3)\n",
    "    small_grid_col = 3*(col//3)\n",
    "    for grid_rows in range(3):\n",
    "        for grid_cols in range(3):\n",
    "            small_grid.add(Sudoku[grid_number]['matrix'][small_grid_row + grid_rows][small_grid_col + grid_cols])\n",
    "\n",
    "    return possible - set(numbers_in_row) - set(numbers_in_col) - set(small_grid)"
   ]
  },
  {
   "cell_type": "code",
   "execution_count": 3,
   "metadata": {},
   "outputs": [],
   "source": [
    "def solve_puzzle(grid_number):\n",
    "    # Local variable(s)\n",
    "    global Sudoku\n",
    "    global PE_96_solution\n",
    "    \n",
    "    #print(f'Function (Start) - {grid_number}:\\n {np.matrix(Sudoku[grid_number])}')\n",
    "    # Cycling thru grid matrix\n",
    "    if Sudoku[grid_number]['solved'] == True:\n",
    "        return\n",
    "    for row in range(9):\n",
    "        for col in range(9):\n",
    "            if Sudoku[grid_number]['matrix'][row][col] == 0:\n",
    "                for number in range(1, 10):\n",
    "                    possible_numbers = get_possible_numbers(grid_number, row, col)\n",
    "                for number in possible_numbers:\n",
    "                    Sudoku[grid_number]['matrix'][row][col] = number\n",
    "                    solve_puzzle(grid_number)\n",
    "                    Sudoku[grid_number]['matrix'][row][col] = 0\n",
    "                return\n",
    "    # Puzzle resolved\n",
    "    Sudoku[grid_number]['solved'] = True\n",
    "    Sudoku[grid_number]['number'] = int(np.array2string(Sudoku[grid_number]['matrix'][0][:3]).replace(' ','')[1:4])\n",
    "    PE_96_solution += Sudoku[grid_number]['number']"
   ]
  },
  {
   "cell_type": "code",
   "execution_count": 4,
   "metadata": {},
   "outputs": [
    {
     "name": "stdout",
     "output_type": "stream",
     "text": [
      "PE_96_solution = 24702\n"
     ]
    }
   ],
   "source": [
    "# Global Variable(s)\n",
    "Sudoku = {}\n",
    "PE_96_solution = 0\n",
    "\n",
    "# Data Collection\n",
    "datafile = open('p096_sudoku.txt', 'r')\n",
    "while True:\n",
    "    grid_number = datafile.readline().strip('\\n')\n",
    "    # Verifying start of grid block\n",
    "    if not grid_number:\n",
    "        break;\n",
    "    elif grid_number[:5] == 'Grid ':\n",
    "        # - obtaining grid number\n",
    "        Sudoku[grid_number] = {'matrix':np.zeros(shape=(9,9), dtype = int),\n",
    "                               'solved':False,\n",
    "                               'number':000}\n",
    "        # - obtaining grid matrix\n",
    "        for lines_read in range(9):\n",
    "            grid_line = datafile.readline().strip('\\n')\n",
    "            # - converting from string to numpy.array\n",
    "            Sudoku[grid_number]['matrix'][lines_read] = np.fromiter(list(grid_line), dtype = int)\n",
    "        solve_puzzle(grid_number)\n",
    "print(f'PE_96_solution = {PE_96_solution}')"
   ]
  },
  {
   "cell_type": "code",
   "execution_count": 5,
   "metadata": {},
   "outputs": [
    {
     "name": "stdout",
     "output_type": "stream",
     "text": [
      "0:02:16.959953\n"
     ]
    }
   ],
   "source": [
    "End_Time = datetime.datetime.now()\n",
    "print((End_Time - Start_Time))"
   ]
  },
  {
   "cell_type": "markdown",
   "metadata": {},
   "source": [
    "# John's Solution"
   ]
  },
  {
   "cell_type": "code",
   "execution_count": 14,
   "metadata": {},
   "outputs": [
    {
     "name": "stdout",
     "output_type": "stream",
     "text": [
      "24702\n",
      "16.60316449999999\n"
     ]
    }
   ],
   "source": [
    "from timeit import default_timer\n",
    "\n",
    "\n",
    "def read_sudoku(grid_number):\n",
    "    if grid_number < 10:\n",
    "        grid_number = '0'+str(grid_number)\n",
    "    else:\n",
    "        grid_number = str(grid_number)\n",
    "    with open(r'p096_sudoku.txt') as s:\n",
    "        sudokus = s.readlines()\n",
    "        sudokus = [line.strip('\\n') for line in sudokus]\n",
    "        idx = sudokus.index('Grid '+grid_number)+1\n",
    "        sudoku = [list(map(int, num)) for num in sudokus[idx:idx+9]]\n",
    "\n",
    "    return sudoku\n",
    "\n",
    "\n",
    "def get_possible(y, x, puzzle):\n",
    "    possible = {1, 2, 3, 4, 5, 6, 7, 8, 9}\n",
    "    column = puzzle[y]\n",
    "    row = [position[x] for position in puzzle]\n",
    "    grid_y, grid_x = 3*(y//3), 3*(x//3)\n",
    "    grid = set()\n",
    "    for i in range(3):\n",
    "        for j in range(3):\n",
    "            grid.add(puzzle[grid_y+i][grid_x+j])\n",
    "\n",
    "    return possible - set(column) - set(row) - set(grid)\n",
    "\n",
    "\n",
    "def solve(puzzle):\n",
    "\n",
    "    global solved\n",
    "    for y in range(9):\n",
    "        for x in range(9):\n",
    "            if puzzle[y][x] == 0:\n",
    "                p = get_possible(y, x, puzzle)\n",
    "                for num in p:\n",
    "                    puzzle[y][x] = num\n",
    "                    solve(puzzle)\n",
    "                    puzzle[y][x] = 0\n",
    "\n",
    "                return\n",
    "\n",
    "    solved = [line[:] for line in puzzle]\n",
    "\n",
    "\n",
    "start = default_timer()\n",
    "solution = 0\n",
    "for i in range(1, 51):\n",
    "    sudoku = read_sudoku(i)\n",
    "    solved = None\n",
    "    solve(sudoku)\n",
    "    solution += int(''.join((str(i) for i in solved[0][:3])))\n",
    "\n",
    "stop = default_timer()\n",
    "print(solution)\n",
    "print(stop-start)"
   ]
  }
 ],
 "metadata": {
  "kernelspec": {
   "display_name": "Python 3",
   "language": "python",
   "name": "python3"
  },
  "language_info": {
   "codemirror_mode": {
    "name": "ipython",
    "version": 3
   },
   "file_extension": ".py",
   "mimetype": "text/x-python",
   "name": "python",
   "nbconvert_exporter": "python",
   "pygments_lexer": "ipython3",
   "version": "3.7.4"
  }
 },
 "nbformat": 4,
 "nbformat_minor": 2
}
