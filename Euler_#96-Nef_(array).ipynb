{
 "cells": [
  {
   "cell_type": "markdown",
   "metadata": {},
   "source": [
    "# Project Euler 96"
   ]
  },
  {
   "cell_type": "code",
   "execution_count": 6,
   "metadata": {},
   "outputs": [],
   "source": [
    "import datetime\n",
    "Start_Time = datetime.datetime.now()\n",
    "import numpy as np"
   ]
  },
  {
   "cell_type": "code",
   "execution_count": 7,
   "metadata": {},
   "outputs": [],
   "source": [
    "def get_small_grid(row, col):\n",
    "    # Identify 3x3 grid\n",
    "    small_grid = set()\n",
    "    small_grid_row = 3*(row//3)\n",
    "    small_grid_col = 3*(col//3)\n",
    "    for grid_rows in range(3):\n",
    "        for grid_cols in range(3):\n",
    "            small_grid.add(grid[small_grid_row + grid_rows][small_grid_col + grid_cols])\n",
    "    # Return possible numbers; all within 'possible' minus those within other sets\n",
    "    return set(small_grid)"
   ]
  },
  {
   "cell_type": "code",
   "execution_count": 8,
   "metadata": {},
   "outputs": [],
   "source": [
    "def solve_puzzle():\n",
    "    # Local variable(s)\n",
    "    possible = {1, 2, 3, 4, 5, 6, 7, 8, 9}\n",
    "    global grid\n",
    "    global grid_solved\n",
    "    global PE_96_solution\n",
    "    \n",
    "    # Cycling thru grid matrix\n",
    "    if grid_solved == True:\n",
    "        return\n",
    "    for row in range(9):\n",
    "        for col in range(9):\n",
    "            if grid[row][col] == 0:\n",
    "                possible_numbers = (possible - set(grid[row]) -\n",
    "                                    set([row_in_grid[col] for row_in_grid in grid]) -\n",
    "                                    set(get_small_grid(row, col)))\n",
    "                for number in possible_numbers:\n",
    "                    grid[row][col] = number\n",
    "                    solve_puzzle()\n",
    "                    grid[row][col] = 0\n",
    "                return\n",
    "    # Puzzle resolved\n",
    "    PE_96_solution += int(np.array2string(grid[0][:3]).replace(' ','')[1:4])\n",
    "    grid_solved = True\n",
    "    return"
   ]
  },
  {
   "cell_type": "code",
   "execution_count": 9,
   "metadata": {
    "scrolled": true
   },
   "outputs": [
    {
     "name": "stdout",
     "output_type": "stream",
     "text": [
      "PE_96_solution = 24702\n"
     ]
    }
   ],
   "source": [
    "# Global Variable(s)\n",
    "PE_96_solution = 0\n",
    "solve_times = []\n",
    "\n",
    "# Data Collection\n",
    "data_file = open('p096_sudoku.txt', 'r')\n",
    "# Verifying start of grid block\n",
    "while True:\n",
    "    data_line = data_file.readline().strip('\\n')\n",
    "    if not data_line:\n",
    "        break;\n",
    "    if data_line[:5] == 'Grid ':\n",
    "        # - reseting grid matrix\n",
    "        grid = np.zeros(shape=(9,9), dtype = int)\n",
    "        grid_solved = False\n",
    "        # - recreating next grid matrix\n",
    "        for lines_read in range(9):\n",
    "            # - converting from string to integers in a numpy.array\n",
    "            grid[lines_read] = np.fromiter(list(data_file.readline().strip('\\n')), dtype = int)\n",
    "        func_start_time = datetime.datetime.now()\n",
    "        solve_puzzle()\n",
    "        solve_times.append(datetime.datetime.now() - func_start_time)\n",
    "print(f'PE_96_solution = {PE_96_solution}')"
   ]
  },
  {
   "cell_type": "code",
   "execution_count": 10,
   "metadata": {},
   "outputs": [
    {
     "name": "stdout",
     "output_type": "stream",
     "text": [
      "0:00:30.268184\n"
     ]
    }
   ],
   "source": [
    "End_Time = datetime.datetime.now()\n",
    "print((End_Time - Start_Time))"
   ]
  },
  {
   "cell_type": "markdown",
   "metadata": {},
   "source": [
    "# John's Solution"
   ]
  },
  {
   "cell_type": "code",
   "execution_count": 11,
   "metadata": {},
   "outputs": [
    {
     "name": "stdout",
     "output_type": "stream",
     "text": [
      "24702\n",
      "16.322258399999555\n"
     ]
    }
   ],
   "source": [
    "  \n",
    "from timeit import default_timer\n",
    "\n",
    "\n",
    "def read_sudoku(grid_number):\n",
    "    if grid_number < 10:\n",
    "        grid_number = '0'+str(grid_number)\n",
    "    else:\n",
    "        grid_number = str(grid_number)\n",
    "    with open(r'p096_sudoku.txt') as s:\n",
    "        sudokus = s.readlines()\n",
    "        sudokus = [line.strip('\\n') for line in sudokus]\n",
    "        idx = sudokus.index('Grid '+grid_number)+1\n",
    "        sudoku = [list(map(int, num)) for num in sudokus[idx:idx+9]]\n",
    "\n",
    "    return sudoku\n",
    "\n",
    "\n",
    "def get_possible(y, x, puzzle):\n",
    "    possible = {1, 2, 3, 4, 5, 6, 7, 8, 9}\n",
    "    column = puzzle[y]\n",
    "    row = [position[x] for position in puzzle]\n",
    "    grid_y, grid_x = 3*(y//3), 3*(x//3)\n",
    "    grid = set()\n",
    "    for i in range(3):\n",
    "        for j in range(3):\n",
    "            grid.add(puzzle[grid_y+i][grid_x+j])\n",
    "\n",
    "    return possible - set(column) - set(row) - set(grid)\n",
    "\n",
    "\n",
    "def solve(puzzle):\n",
    "\n",
    "    global solved\n",
    "    for y in range(9):\n",
    "        for x in range(9):\n",
    "            if puzzle[y][x] == 0:\n",
    "                p = get_possible(y, x, puzzle)\n",
    "                for num in p:\n",
    "                    puzzle[y][x] = num\n",
    "                    solve(puzzle)\n",
    "                    puzzle[y][x] = 0\n",
    "\n",
    "                return\n",
    "\n",
    "    solved = [line[:] for line in puzzle]\n",
    "\n",
    "\n",
    "start = default_timer()\n",
    "solution = 0\n",
    "for i in range(1, 51):\n",
    "    sudoku = read_sudoku(i)\n",
    "    solved = None\n",
    "    solve(sudoku)\n",
    "    solution += int(''.join((str(i) for i in solved[0][:3])))\n",
    "\n",
    "stop = default_timer()\n",
    "print(solution)\n",
    "print(stop-start)"
   ]
  }
 ],
 "metadata": {
  "kernelspec": {
   "display_name": "Python 3",
   "language": "python",
   "name": "python3"
  },
  "language_info": {
   "codemirror_mode": {
    "name": "ipython",
    "version": 3
   },
   "file_extension": ".py",
   "mimetype": "text/x-python",
   "name": "python",
   "nbconvert_exporter": "python",
   "pygments_lexer": "ipython3",
   "version": "3.7.4"
  }
 },
 "nbformat": 4,
 "nbformat_minor": 2
}
